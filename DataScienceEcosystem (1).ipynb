{
 "cells": [
  {
   "cell_type": "markdown",
   "id": "30ee34f5-ecb6-454c-be27-55888a989322",
   "metadata": {},
   "source": [
    "# Data Science Tools and Ecosystem"
   ]
  },
  {
   "cell_type": "markdown",
   "id": "216dc619-536c-40cd-915a-5f308e434473",
   "metadata": {},
   "source": [
    "In this notebook, Data Science Tools and Ecosystem are summarised."
   ]
  },
  {
   "cell_type": "markdown",
   "id": "c56d6b80-2c02-491d-b2c3-24c11b20c86d",
   "metadata": {},
   "source": [
    "**Objectives:**\r\n",
    "\r\n",
    "- List popular languages for Data Science\r\n",
    "- Use basic Python commands in Jupyter notebooks\r\n",
    "- Perform simple arithmetic operations in Python\r\n",
    "- Create simple tables"
   ]
  },
  {
   "cell_type": "markdown",
   "id": "cab0b602-0805-485c-a136-d7e8e9952035",
   "metadata": {},
   "source": [
    "Some of the popular languages that Data Scientists use are:"
   ]
  },
  {
   "cell_type": "markdown",
   "id": "ad827dc7-d523-47cb-9c82-e757ec4ad9a2",
   "metadata": {},
   "source": [
    "1. Python\r\n",
    "2. R\r\n",
    "3. SQL\r\n",
    "4. Julia\r\n",
    "5. Scala\r\n"
   ]
  },
  {
   "cell_type": "markdown",
   "id": "a7e93153-7b15-406c-8ba5-f99f4ea74658",
   "metadata": {},
   "source": [
    "| Data Science Tools |\n",
    "|--------------------|\n",
    "| Jupyter Notebook   |\n",
    "| RStudio            |\n",
    "| Spyder             |\n"
   ]
  },
  {
   "cell_type": "markdown",
   "id": "0337774d-d7e3-4747-a908-2276da4791be",
   "metadata": {},
   "source": [
    "### Below are a few examples of evaluating arithmetic expressions in Python."
   ]
  },
  {
   "cell_type": "markdown",
   "id": "d5baa427-bc43-4cc3-b678-7c134580a7c4",
   "metadata": {},
   "source": [
    " This a simple arithmetic expression to mutiply then add integers"
   ]
  },
  {
   "cell_type": "code",
   "execution_count": 6,
   "id": "da7c0f20-eadf-4d70-a883-3df747b3b4d8",
   "metadata": {},
   "outputs": [
    {
     "data": {
      "text/plain": [
       "17"
      ]
     },
     "execution_count": 6,
     "metadata": {},
     "output_type": "execute_result"
    }
   ],
   "source": [
    "(3*4)+5"
   ]
  },
  {
   "cell_type": "markdown",
   "id": "a2e40a8e-90e4-46a5-b638-1de62f4ed919",
   "metadata": {},
   "source": [
    "This will convert 200 minutes to hours by diving by 60"
   ]
  },
  {
   "cell_type": "code",
   "execution_count": 7,
   "id": "1d12df6a-b8d0-4072-bf05-00a60a90ecde",
   "metadata": {},
   "outputs": [
    {
     "name": "stdout",
     "output_type": "stream",
     "text": [
      "3.3333333333333335\n"
     ]
    }
   ],
   "source": [
    "hours = 200 / 60\n",
    "print (hours)"
   ]
  },
  {
   "cell_type": "markdown",
   "id": "f4a826c3-22cf-4d71-aef1-cd0628aa2b94",
   "metadata": {},
   "source": [
    "## Author\n",
    "Harry M"
   ]
  },
  {
   "cell_type": "code",
   "execution_count": null,
   "id": "96d34c82-75eb-4295-b62e-7aa0f7a51074",
   "metadata": {},
   "outputs": [],
   "source": []
  }
 ],
 "metadata": {
  "kernelspec": {
   "display_name": "Python 3 (ipykernel)",
   "language": "python",
   "name": "python3"
  },
  "language_info": {
   "codemirror_mode": {
    "name": "ipython",
    "version": 3
   },
   "file_extension": ".py",
   "mimetype": "text/x-python",
   "name": "python",
   "nbconvert_exporter": "python",
   "pygments_lexer": "ipython3",
   "version": "3.11.7"
  }
 },
 "nbformat": 4,
 "nbformat_minor": 5
}
